{
 "cells": [
  {
   "cell_type": "code",
   "execution_count": 1,
   "id": "13cf19b9",
   "metadata": {},
   "outputs": [],
   "source": [
    "import pandas as pd\n",
    "import matplotlib.pyplot as plt\n",
    "import seaborn as sns\n",
    "from scipy import stats"
   ]
  },
  {
   "cell_type": "code",
   "execution_count": 2,
   "id": "43860777",
   "metadata": {},
   "outputs": [],
   "source": [
    "data=pd.read_csv(r'C:\\Users\\Shamnad S\\Downloads\\Drug_SideEffects.csv')"
   ]
  },
  {
   "cell_type": "code",
   "execution_count": 3,
   "id": "09dad1c3",
   "metadata": {},
   "outputs": [
    {
     "data": {
      "text/html": [
       "<div>\n",
       "<style scoped>\n",
       "    .dataframe tbody tr th:only-of-type {\n",
       "        vertical-align: middle;\n",
       "    }\n",
       "\n",
       "    .dataframe tbody tr th {\n",
       "        vertical-align: top;\n",
       "    }\n",
       "\n",
       "    .dataframe thead th {\n",
       "        text-align: right;\n",
       "    }\n",
       "</style>\n",
       "<table border=\"1\" class=\"dataframe\">\n",
       "  <thead>\n",
       "    <tr style=\"text-align: right;\">\n",
       "      <th></th>\n",
       "      <th>NAME</th>\n",
       "      <th>GENDER</th>\n",
       "      <th>DRUG NAME</th>\n",
       "      <th>AGE</th>\n",
       "      <th>RACE</th>\n",
       "      <th>SIDE EFFECTS</th>\n",
       "    </tr>\n",
       "  </thead>\n",
       "  <tbody>\n",
       "    <tr>\n",
       "      <th>0</th>\n",
       "      <td>Aaban</td>\n",
       "      <td>M</td>\n",
       "      <td>topamax</td>\n",
       "      <td>41.0</td>\n",
       "      <td>White</td>\n",
       "      <td>Mild Side Effects</td>\n",
       "    </tr>\n",
       "    <tr>\n",
       "      <th>1</th>\n",
       "      <td>Aaban</td>\n",
       "      <td>M</td>\n",
       "      <td>zocor</td>\n",
       "      <td>53.0</td>\n",
       "      <td>Hispanic, White</td>\n",
       "      <td>Extremely Severe Side Effects</td>\n",
       "    </tr>\n",
       "    <tr>\n",
       "      <th>2</th>\n",
       "      <td>Aabha</td>\n",
       "      <td>F</td>\n",
       "      <td>tazorac</td>\n",
       "      <td>31.0</td>\n",
       "      <td>White</td>\n",
       "      <td>Mild Side Effects</td>\n",
       "    </tr>\n",
       "    <tr>\n",
       "      <th>3</th>\n",
       "      <td>Aabha</td>\n",
       "      <td>F</td>\n",
       "      <td>voltaren</td>\n",
       "      <td>44.0</td>\n",
       "      <td>White</td>\n",
       "      <td>Severe Side Effects</td>\n",
       "    </tr>\n",
       "    <tr>\n",
       "      <th>4</th>\n",
       "      <td>Aabid</td>\n",
       "      <td>M</td>\n",
       "      <td>tramadol</td>\n",
       "      <td>24.0</td>\n",
       "      <td>White</td>\n",
       "      <td>No Side Effects</td>\n",
       "    </tr>\n",
       "  </tbody>\n",
       "</table>\n",
       "</div>"
      ],
      "text/plain": [
       "    NAME GENDER DRUG NAME   AGE             RACE  \\\n",
       "0  Aaban      M   topamax  41.0            White   \n",
       "1  Aaban      M     zocor  53.0  Hispanic, White   \n",
       "2  Aabha      F   tazorac  31.0            White   \n",
       "3  Aabha      F  voltaren  44.0            White   \n",
       "4  Aabid      M  tramadol  24.0            White   \n",
       "\n",
       "                    SIDE EFFECTS  \n",
       "0              Mild Side Effects  \n",
       "1  Extremely Severe Side Effects  \n",
       "2              Mild Side Effects  \n",
       "3            Severe Side Effects  \n",
       "4                No Side Effects  "
      ]
     },
     "execution_count": 3,
     "metadata": {},
     "output_type": "execute_result"
    }
   ],
   "source": [
    "##preview the data\n",
    "data.head()"
   ]
  },
  {
   "cell_type": "code",
   "execution_count": 4,
   "id": "7f21df26",
   "metadata": {},
   "outputs": [
    {
     "data": {
      "text/plain": [
       "(400000, 6)"
      ]
     },
     "execution_count": 4,
     "metadata": {},
     "output_type": "execute_result"
    }
   ],
   "source": [
    "##total rows and columns\n",
    "data.shape"
   ]
  },
  {
   "cell_type": "code",
   "execution_count": 5,
   "id": "718062d3",
   "metadata": {},
   "outputs": [
    {
     "name": "stdout",
     "output_type": "stream",
     "text": [
      "<class 'pandas.core.frame.DataFrame'>\n",
      "RangeIndex: 400000 entries, 0 to 399999\n",
      "Data columns (total 6 columns):\n",
      " #   Column        Non-Null Count   Dtype  \n",
      "---  ------        --------------   -----  \n",
      " 0   NAME          400000 non-null  object \n",
      " 1   GENDER        400000 non-null  object \n",
      " 2   DRUG NAME     400000 non-null  object \n",
      " 3   AGE           399980 non-null  float64\n",
      " 4   RACE          400000 non-null  object \n",
      " 5   SIDE EFFECTS  400000 non-null  object \n",
      "dtypes: float64(1), object(5)\n",
      "memory usage: 18.3+ MB\n"
     ]
    }
   ],
   "source": [
    "data.info()"
   ]
  },
  {
   "cell_type": "code",
   "execution_count": 6,
   "id": "94a61263",
   "metadata": {},
   "outputs": [
    {
     "data": {
      "text/html": [
       "<div>\n",
       "<style scoped>\n",
       "    .dataframe tbody tr th:only-of-type {\n",
       "        vertical-align: middle;\n",
       "    }\n",
       "\n",
       "    .dataframe tbody tr th {\n",
       "        vertical-align: top;\n",
       "    }\n",
       "\n",
       "    .dataframe thead th {\n",
       "        text-align: right;\n",
       "    }\n",
       "</style>\n",
       "<table border=\"1\" class=\"dataframe\">\n",
       "  <thead>\n",
       "    <tr style=\"text-align: right;\">\n",
       "      <th></th>\n",
       "      <th>AGE</th>\n",
       "    </tr>\n",
       "  </thead>\n",
       "  <tbody>\n",
       "    <tr>\n",
       "      <th>count</th>\n",
       "      <td>399980.000000</td>\n",
       "    </tr>\n",
       "    <tr>\n",
       "      <th>mean</th>\n",
       "      <td>41.466513</td>\n",
       "    </tr>\n",
       "    <tr>\n",
       "      <th>std</th>\n",
       "      <td>12.550773</td>\n",
       "    </tr>\n",
       "    <tr>\n",
       "      <th>min</th>\n",
       "      <td>14.000000</td>\n",
       "    </tr>\n",
       "    <tr>\n",
       "      <th>25%</th>\n",
       "      <td>31.000000</td>\n",
       "    </tr>\n",
       "    <tr>\n",
       "      <th>50%</th>\n",
       "      <td>41.000000</td>\n",
       "    </tr>\n",
       "    <tr>\n",
       "      <th>75%</th>\n",
       "      <td>51.000000</td>\n",
       "    </tr>\n",
       "    <tr>\n",
       "      <th>max</th>\n",
       "      <td>600.000000</td>\n",
       "    </tr>\n",
       "  </tbody>\n",
       "</table>\n",
       "</div>"
      ],
      "text/plain": [
       "                 AGE\n",
       "count  399980.000000\n",
       "mean       41.466513\n",
       "std        12.550773\n",
       "min        14.000000\n",
       "25%        31.000000\n",
       "50%        41.000000\n",
       "75%        51.000000\n",
       "max       600.000000"
      ]
     },
     "execution_count": 6,
     "metadata": {},
     "output_type": "execute_result"
    }
   ],
   "source": [
    "##summary statistics\n",
    "data.describe()"
   ]
  },
  {
   "cell_type": "code",
   "execution_count": 7,
   "id": "8ae2cb58",
   "metadata": {},
   "outputs": [
    {
     "data": {
      "text/plain": [
       "NAME             object\n",
       "GENDER           object\n",
       "DRUG NAME        object\n",
       "AGE             float64\n",
       "RACE             object\n",
       "SIDE EFFECTS     object\n",
       "dtype: object"
      ]
     },
     "execution_count": 7,
     "metadata": {},
     "output_type": "execute_result"
    }
   ],
   "source": [
    "##check datatypes\n",
    "data.dtypes"
   ]
  },
  {
   "cell_type": "code",
   "execution_count": 8,
   "id": "db58ec47",
   "metadata": {},
   "outputs": [
    {
     "data": {
      "text/plain": [
       "NAME             0\n",
       "GENDER           0\n",
       "DRUG NAME        0\n",
       "AGE             20\n",
       "RACE             0\n",
       "SIDE EFFECTS     0\n",
       "dtype: int64"
      ]
     },
     "execution_count": 8,
     "metadata": {},
     "output_type": "execute_result"
    }
   ],
   "source": [
    "##checking missing values\n",
    "data.isnull().sum()"
   ]
  },
  {
   "cell_type": "code",
   "execution_count": 9,
   "id": "f7bba936",
   "metadata": {},
   "outputs": [
    {
     "data": {
      "text/plain": [
       "(400000, 6)"
      ]
     },
     "execution_count": 9,
     "metadata": {},
     "output_type": "execute_result"
    }
   ],
   "source": [
    "data.shape"
   ]
  },
  {
   "cell_type": "code",
   "execution_count": 10,
   "id": "56eb67e3",
   "metadata": {},
   "outputs": [
    {
     "data": {
      "text/html": [
       "<div>\n",
       "<style scoped>\n",
       "    .dataframe tbody tr th:only-of-type {\n",
       "        vertical-align: middle;\n",
       "    }\n",
       "\n",
       "    .dataframe tbody tr th {\n",
       "        vertical-align: top;\n",
       "    }\n",
       "\n",
       "    .dataframe thead th {\n",
       "        text-align: right;\n",
       "    }\n",
       "</style>\n",
       "<table border=\"1\" class=\"dataframe\">\n",
       "  <thead>\n",
       "    <tr style=\"text-align: right;\">\n",
       "      <th></th>\n",
       "      <th>NAME</th>\n",
       "      <th>GENDER</th>\n",
       "      <th>DRUG NAME</th>\n",
       "      <th>AGE</th>\n",
       "      <th>RACE</th>\n",
       "      <th>SIDE EFFECTS</th>\n",
       "    </tr>\n",
       "  </thead>\n",
       "  <tbody>\n",
       "    <tr>\n",
       "      <th>194153</th>\n",
       "      <td>Kartina</td>\n",
       "      <td>F</td>\n",
       "      <td>solodyn</td>\n",
       "      <td>14.0</td>\n",
       "      <td>White</td>\n",
       "      <td>Moderate Side Effects</td>\n",
       "    </tr>\n",
       "    <tr>\n",
       "      <th>301395</th>\n",
       "      <td>Quinnshawn</td>\n",
       "      <td>M</td>\n",
       "      <td>solodyn</td>\n",
       "      <td>14.0</td>\n",
       "      <td>White</td>\n",
       "      <td>Moderate Side Effects</td>\n",
       "    </tr>\n",
       "    <tr>\n",
       "      <th>52610</th>\n",
       "      <td>Britteni</td>\n",
       "      <td>F</td>\n",
       "      <td>solodyn</td>\n",
       "      <td>14.0</td>\n",
       "      <td>White</td>\n",
       "      <td>Moderate Side Effects</td>\n",
       "    </tr>\n",
       "    <tr>\n",
       "      <th>134779</th>\n",
       "      <td>Gaynelle</td>\n",
       "      <td>F</td>\n",
       "      <td>solodyn</td>\n",
       "      <td>14.0</td>\n",
       "      <td>White</td>\n",
       "      <td>Moderate Side Effects</td>\n",
       "    </tr>\n",
       "    <tr>\n",
       "      <th>113412</th>\n",
       "      <td>Elner</td>\n",
       "      <td>F</td>\n",
       "      <td>solodyn</td>\n",
       "      <td>14.0</td>\n",
       "      <td>White</td>\n",
       "      <td>Moderate Side Effects</td>\n",
       "    </tr>\n",
       "  </tbody>\n",
       "</table>\n",
       "</div>"
      ],
      "text/plain": [
       "              NAME GENDER DRUG NAME   AGE   RACE           SIDE EFFECTS\n",
       "194153     Kartina      F   solodyn  14.0  White  Moderate Side Effects\n",
       "301395  Quinnshawn      M   solodyn  14.0  White  Moderate Side Effects\n",
       "52610     Britteni      F   solodyn  14.0  White  Moderate Side Effects\n",
       "134779    Gaynelle      F   solodyn  14.0  White  Moderate Side Effects\n",
       "113412       Elner      F   solodyn  14.0  White  Moderate Side Effects"
      ]
     },
     "execution_count": 10,
     "metadata": {},
     "output_type": "execute_result"
    }
   ],
   "source": [
    "data.sort_values(by=\"AGE\",ascending=True).head()"
   ]
  },
  {
   "cell_type": "code",
   "execution_count": 11,
   "id": "9b4adcaf",
   "metadata": {},
   "outputs": [
    {
     "data": {
      "text/html": [
       "<div>\n",
       "<style scoped>\n",
       "    .dataframe tbody tr th:only-of-type {\n",
       "        vertical-align: middle;\n",
       "    }\n",
       "\n",
       "    .dataframe tbody tr th {\n",
       "        vertical-align: top;\n",
       "    }\n",
       "\n",
       "    .dataframe thead th {\n",
       "        text-align: right;\n",
       "    }\n",
       "</style>\n",
       "<table border=\"1\" class=\"dataframe\">\n",
       "  <thead>\n",
       "    <tr style=\"text-align: right;\">\n",
       "      <th></th>\n",
       "      <th>NAME</th>\n",
       "      <th>GENDER</th>\n",
       "      <th>DRUG NAME</th>\n",
       "      <th>AGE</th>\n",
       "      <th>RACE</th>\n",
       "      <th>SIDE EFFECTS</th>\n",
       "    </tr>\n",
       "  </thead>\n",
       "  <tbody>\n",
       "    <tr>\n",
       "      <th>118</th>\n",
       "      <td>A'Aff</td>\n",
       "      <td>F</td>\n",
       "      <td>adderall</td>\n",
       "      <td>24.0</td>\n",
       "      <td>White</td>\n",
       "      <td>Moderate Side Effects</td>\n",
       "    </tr>\n",
       "    <tr>\n",
       "      <th>768</th>\n",
       "      <td>A'Aron</td>\n",
       "      <td>M</td>\n",
       "      <td>doxycycline</td>\n",
       "      <td>26.0</td>\n",
       "      <td>White</td>\n",
       "      <td>Mild Side Effects</td>\n",
       "    </tr>\n",
       "    <tr>\n",
       "      <th>3937</th>\n",
       "      <td>A'Dele</td>\n",
       "      <td>F</td>\n",
       "      <td>claripel-cream</td>\n",
       "      <td>18.0</td>\n",
       "      <td>White</td>\n",
       "      <td>No Side Effects</td>\n",
       "    </tr>\n",
       "    <tr>\n",
       "      <th>7745</th>\n",
       "      <td>A'Isha</td>\n",
       "      <td>F</td>\n",
       "      <td>zoloft</td>\n",
       "      <td>58.0</td>\n",
       "      <td>White</td>\n",
       "      <td>No Side Effects</td>\n",
       "    </tr>\n",
       "    <tr>\n",
       "      <th>7749</th>\n",
       "      <td>A'Ishah</td>\n",
       "      <td>F</td>\n",
       "      <td>cipro</td>\n",
       "      <td>26.0</td>\n",
       "      <td>White</td>\n",
       "      <td>No Side Effects</td>\n",
       "    </tr>\n",
       "  </tbody>\n",
       "</table>\n",
       "</div>"
      ],
      "text/plain": [
       "         NAME GENDER       DRUG NAME   AGE   RACE           SIDE EFFECTS\n",
       "118     A'Aff      F        adderall  24.0  White  Moderate Side Effects\n",
       "768    A'Aron      M     doxycycline  26.0  White      Mild Side Effects\n",
       "3937   A'Dele      F  claripel-cream  18.0  White        No Side Effects\n",
       "7745   A'Isha      F          zoloft  58.0  White        No Side Effects\n",
       "7749  A'Ishah      F           cipro  26.0  White        No Side Effects"
      ]
     },
     "execution_count": 11,
     "metadata": {},
     "output_type": "execute_result"
    }
   ],
   "source": [
    "data.sort_values(by=\"NAME\",ascending=True).head()"
   ]
  },
  {
   "cell_type": "markdown",
   "id": "da3b2bcb",
   "metadata": {},
   "source": [
    "# EXPLORATORY DATA ANALYIS"
   ]
  },
  {
   "cell_type": "code",
   "execution_count": 12,
   "id": "80cf0049",
   "metadata": {},
   "outputs": [
    {
     "data": {
      "text/plain": [
       "F    237751\n",
       "M    162249\n",
       "Name: GENDER, dtype: int64"
      ]
     },
     "execution_count": 12,
     "metadata": {},
     "output_type": "execute_result"
    }
   ],
   "source": [
    "#Checking value counts of \"GENDER\"\n",
    "data[\"GENDER\"].value_counts()"
   ]
  },
  {
   "cell_type": "code",
   "execution_count": 13,
   "id": "2e73d3c4",
   "metadata": {},
   "outputs": [
    {
     "data": {
      "text/plain": [
       "(array([0, 1]), [Text(0, 0, 'M'), Text(1, 0, 'F')])"
      ]
     },
     "execution_count": 13,
     "metadata": {},
     "output_type": "execute_result"
    },
    {
     "data": {
      "image/png": "[encoded data removed]",
      "text/plain": [
       "<Figure size 600x600 with 1 Axes>"
      ]
     },
     "metadata": {},
     "output_type": "display_data"
    }
   ],
   "source": [
    "data[\"GENDER\"].value_counts()\n",
    "plt.figure(figsize=(6,6))\n",
    "sns.countplot(x='GENDER',hue='GENDER',data=data,palette=\"PuBuGn_r\")\n",
    "plt.title(\"GENDER COUNT\",fontsize=18 )\n",
    "plt.xticks(rotation=45)"
   ]
  },
  {
   "cell_type": "code",
   "execution_count": 14,
   "id": "ad6b5fb2",
   "metadata": {},
   "outputs": [
    {
     "data": {
      "text/plain": [
       "White              314074\n",
       "Hispanic, White     44072\n",
       "Black               35845\n",
       "Unknown              3046\n",
       "Hispanic, Black      1673\n",
       "Other                1010\n",
       "Asian, Other          168\n",
       "Asian Indian          104\n",
       "Chinese                 8\n",
       "Name: RACE, dtype: int64"
      ]
     },
     "execution_count": 14,
     "metadata": {},
     "output_type": "execute_result"
    }
   ],
   "source": [
    "#Checking value counts of \"RACE\"\n",
    "data[\"RACE\"].value_counts()"
   ]
  },
  {
   "cell_type": "code",
   "execution_count": 15,
   "id": "e8089be5",
   "metadata": {},
   "outputs": [
    {
     "data": {
      "text/plain": [
       "(array([0, 1, 2, 3, 4, 5, 6, 7, 8]),\n",
       " [Text(0, 0, 'White'),\n",
       "  Text(1, 0, 'Hispanic, White'),\n",
       "  Text(2, 0, 'Unknown'),\n",
       "  Text(3, 0, 'Black'),\n",
       "  Text(4, 0, 'Other'),\n",
       "  Text(5, 0, 'Hispanic, Black'),\n",
       "  Text(6, 0, 'Asian, Other'),\n",
       "  Text(7, 0, 'Asian Indian'),\n",
       "  Text(8, 0, 'Chinese')])"
      ]
     },
     "execution_count": 15,
     "metadata": {},
     "output_type": "execute_result"
    },
    {
     "data": {
      "image/png": "[encoded data removed]",
      "text/plain": [
       "<Figure size 1000x600 with 1 Axes>"
      ]
     },
     "metadata": {},
     "output_type": "display_data"
    }
   ],
   "source": [
    "data[\"RACE\"].value_counts()\n",
    "plt.figure(figsize=(10,6))\n",
    "sns.countplot(x='RACE',hue='RACE',data=data)\n",
    "plt.title(\"RACE COUNT\",fontsize=18 )\n",
    "plt.xticks(rotation=45)"
   ]
  },
  {
   "cell_type": "code",
   "execution_count": 16,
   "id": "566934ba",
   "metadata": {},
   "outputs": [
    {
     "data": {
      "text/plain": [
       "paxil         6269\n",
       "lamictal      6045\n",
       "nexium        6029\n",
       "levoxyl       5958\n",
       "ambien        5692\n",
       "              ... \n",
       "lantus           8\n",
       "periostat        8\n",
       "proair-hfa       8\n",
       "bactrim-ds       8\n",
       "arimidex         8\n",
       "Name: DRUG NAME, Length: 502, dtype: int64"
      ]
     },
     "execution_count": 16,
     "metadata": {},
     "output_type": "execute_result"
    }
   ],
   "source": [
    "#Checking value counts of \"DRUG NAME\"\n",
    "data[\"DRUG NAME\"].value_counts()"
   ]
  },
  {
   "cell_type": "code",
   "execution_count": 17,
   "id": "d5ca7059",
   "metadata": {},
   "outputs": [
    {
     "data": {
      "text/plain": [
       "array(['Mild Side Effects', 'Extremely Severe Side Effects',\n",
       "       'Severe Side Effects', 'No Side Effects', 'Moderate Side Effects'],\n",
       "      dtype=object)"
      ]
     },
     "execution_count": 17,
     "metadata": {},
     "output_type": "execute_result"
    }
   ],
   "source": [
    "#Checking Unique values of \"SIDE EFFECTS\"\n",
    "data[\"SIDE EFFECTS\"].unique()"
   ]
  },
  {
   "cell_type": "code",
   "execution_count": 18,
   "id": "89e850ff",
   "metadata": {},
   "outputs": [
    {
     "data": {
      "text/plain": [
       "(array([0, 1, 2, 3, 4]),\n",
       " [Text(0, 0, 'Mild Side Effects'),\n",
       "  Text(1, 0, 'Extremely Severe Side Effects'),\n",
       "  Text(2, 0, 'Severe Side Effects'),\n",
       "  Text(3, 0, 'No Side Effects'),\n",
       "  Text(4, 0, 'Moderate Side Effects')])"
      ]
     },
     "execution_count": 18,
     "metadata": {},
     "output_type": "execute_result"
    },
    {
     "data": {
      "image/png": "[encoded data removed]",
      "text/plain": [
       "<Figure size 1000x600 with 1 Axes>"
      ]
     },
     "metadata": {},
     "output_type": "display_data"
    }
   ],
   "source": [
    "data[\"SIDE EFFECTS\"].value_counts()\n",
    "plt.figure(figsize=(10,6))\n",
    "sns.countplot(x='SIDE EFFECTS',hue='SIDE EFFECTS',data=data)\n",
    "plt.title(\"SIDE EFFECTS COUNT\",fontsize=18 )\n",
    "plt.xticks(rotation=45)"
   ]
  },
  {
   "cell_type": "markdown",
   "id": "eccaa7b3",
   "metadata": {},
   "source": [
    "# DATA PREPROCESSING"
   ]
  },
  {
   "cell_type": "code",
   "execution_count": 19,
   "id": "fd95f7de",
   "metadata": {},
   "outputs": [
    {
     "data": {
      "text/plain": [
       "20"
      ]
     },
     "execution_count": 19,
     "metadata": {},
     "output_type": "execute_result"
    }
   ],
   "source": [
    "#Checking the null values in column \"AGE\"\n",
    "data.AGE.isna().sum()"
   ]
  },
  {
   "cell_type": "code",
   "execution_count": 20,
   "id": "25643cde",
   "metadata": {},
   "outputs": [
    {
     "data": {
      "text/plain": [
       "NAME            0\n",
       "GENDER          0\n",
       "DRUG NAME       0\n",
       "AGE             0\n",
       "RACE            0\n",
       "SIDE EFFECTS    0\n",
       "dtype: int64"
      ]
     },
     "execution_count": 20,
     "metadata": {},
     "output_type": "execute_result"
    }
   ],
   "source": [
    "#filling the missing values in age with respect to the median of it.\n",
    "data[\"AGE\"]=data[\"AGE\"].fillna(data[\"AGE\"].median())\n",
    "data.isna().sum()"
   ]
  },
  {
   "cell_type": "code",
   "execution_count": 21,
   "id": "1a293136",
   "metadata": {},
   "outputs": [
    {
     "data": {
      "text/html": [
       "<div>\n",
       "<style scoped>\n",
       "    .dataframe tbody tr th:only-of-type {\n",
       "        vertical-align: middle;\n",
       "    }\n",
       "\n",
       "    .dataframe tbody tr th {\n",
       "        vertical-align: top;\n",
       "    }\n",
       "\n",
       "    .dataframe thead th {\n",
       "        text-align: right;\n",
       "    }\n",
       "</style>\n",
       "<table border=\"1\" class=\"dataframe\">\n",
       "  <thead>\n",
       "    <tr style=\"text-align: right;\">\n",
       "      <th></th>\n",
       "      <th>GENDER</th>\n",
       "      <th>DRUG NAME</th>\n",
       "      <th>AGE</th>\n",
       "      <th>RACE</th>\n",
       "      <th>SIDE EFFECTS</th>\n",
       "    </tr>\n",
       "  </thead>\n",
       "  <tbody>\n",
       "    <tr>\n",
       "      <th>0</th>\n",
       "      <td>M</td>\n",
       "      <td>topamax</td>\n",
       "      <td>41.0</td>\n",
       "      <td>White</td>\n",
       "      <td>Mild Side Effects</td>\n",
       "    </tr>\n",
       "    <tr>\n",
       "      <th>1</th>\n",
       "      <td>M</td>\n",
       "      <td>zocor</td>\n",
       "      <td>53.0</td>\n",
       "      <td>Hispanic, White</td>\n",
       "      <td>Extremely Severe Side Effects</td>\n",
       "    </tr>\n",
       "    <tr>\n",
       "      <th>2</th>\n",
       "      <td>F</td>\n",
       "      <td>tazorac</td>\n",
       "      <td>31.0</td>\n",
       "      <td>White</td>\n",
       "      <td>Mild Side Effects</td>\n",
       "    </tr>\n",
       "  </tbody>\n",
       "</table>\n",
       "</div>"
      ],
      "text/plain": [
       "  GENDER DRUG NAME   AGE             RACE                   SIDE EFFECTS\n",
       "0      M   topamax  41.0            White              Mild Side Effects\n",
       "1      M     zocor  53.0  Hispanic, White  Extremely Severe Side Effects\n",
       "2      F   tazorac  31.0            White              Mild Side Effects"
      ]
     },
     "execution_count": 21,
     "metadata": {},
     "output_type": "execute_result"
    }
   ],
   "source": [
    "#Drop the column \"Name\" which doesn't give any contribution for the modelling\n",
    "data = data.drop(['NAME'], axis =1)\n",
    "data.head(3)\n"
   ]
  },
  {
   "cell_type": "markdown",
   "id": "fbb94180",
   "metadata": {},
   "source": [
    "# OUTLIERS IN THE DATA"
   ]
  },
  {
   "cell_type": "code",
   "execution_count": 22,
   "id": "8e68d50c",
   "metadata": {},
   "outputs": [],
   "source": [
    "import numpy as np"
   ]
  },
  {
   "cell_type": "code",
   "execution_count": 23,
   "id": "ad1a773f",
   "metadata": {},
   "outputs": [
    {
     "name": "stdout",
     "output_type": "stream",
     "text": [
      "value of Q1: 34.0\n",
      "value of Q2: 45.0\n",
      "value of Q3: 57.0\n"
     ]
    },
    {
     "name": "stderr",
     "output_type": "stream",
     "text": [
      "C:\\Users\\Shamnad S\\AppData\\Local\\Temp\\ipykernel_9080\\4135929245.py:2: DeprecationWarning: the `interpolation=` argument to percentile was renamed to `method=`, which has additional options.\n",
      "Users of the modes 'nearest', 'lower', 'higher', or 'midpoint' are encouraged to review the method they used. (Deprecated NumPy 1.22)\n",
      "  Q1=np.percentile(data[\"AGE\"],30,interpolation= \"midpoint\")\n",
      "C:\\Users\\Shamnad S\\AppData\\Local\\Temp\\ipykernel_9080\\4135929245.py:3: DeprecationWarning: the `interpolation=` argument to percentile was renamed to `method=`, which has additional options.\n",
      "Users of the modes 'nearest', 'lower', 'higher', or 'midpoint' are encouraged to review the method they used. (Deprecated NumPy 1.22)\n",
      "  Q2=np.percentile(data[\"AGE\"],60,interpolation= \"midpoint\")\n",
      "C:\\Users\\Shamnad S\\AppData\\Local\\Temp\\ipykernel_9080\\4135929245.py:4: DeprecationWarning: the `interpolation=` argument to percentile was renamed to `method=`, which has additional options.\n",
      "Users of the modes 'nearest', 'lower', 'higher', or 'midpoint' are encouraged to review the method they used. (Deprecated NumPy 1.22)\n",
      "  Q3=np.percentile(data[\"AGE\"],90,interpolation= \"midpoint\")\n"
     ]
    }
   ],
   "source": [
    "# Calculate quartile values for 'AGE' using 30,60 and 90 percentile values\n",
    "Q1=np.percentile(data[\"AGE\"],30,interpolation= \"midpoint\")\n",
    "Q2=np.percentile(data[\"AGE\"],60,interpolation= \"midpoint\")\n",
    "Q3=np.percentile(data[\"AGE\"],90,interpolation= \"midpoint\")\n",
    "print(\"value of Q1:\",Q1)\n",
    "print(\"value of Q2:\",Q2)\n",
    "print(\"value of Q3:\",Q3)"
   ]
  },
  {
   "cell_type": "code",
   "execution_count": 24,
   "id": "87f14d9a",
   "metadata": {},
   "outputs": [
    {
     "data": {
      "text/plain": [
       "41.0"
      ]
     },
     "execution_count": 24,
     "metadata": {},
     "output_type": "execute_result"
    }
   ],
   "source": [
    "data[\"AGE\"].median()"
   ]
  },
  {
   "cell_type": "code",
   "execution_count": 25,
   "id": "986bd60a",
   "metadata": {},
   "outputs": [],
   "source": [
    "IQR= Q3-Q1"
   ]
  },
  {
   "cell_type": "code",
   "execution_count": 26,
   "id": "f81027b6",
   "metadata": {},
   "outputs": [
    {
     "name": "stdout",
     "output_type": "stream",
     "text": [
      "Upper limit value is: 91.5\n",
      "Lower limit value is: -0.5\n"
     ]
    }
   ],
   "source": [
    "Upper_lim= Q3+1.5*IQR\n",
    "Lower_lim=Q1-1.5*IQR\n",
    "print(\"Upper limit value is:\",Upper_lim)\n",
    "print(\"Lower limit value is:\",Lower_lim)"
   ]
  },
  {
   "cell_type": "code",
   "execution_count": 27,
   "id": "e3f5c069",
   "metadata": {},
   "outputs": [],
   "source": [
    "outlier=[]\n",
    "for x in data[\"AGE\"]:\n",
    "    if((x>Upper_lim)or(x<Lower_lim)):\n",
    "        outlier.append(x)"
   ]
  },
  {
   "cell_type": "code",
   "execution_count": 28,
   "id": "e31b7a8c",
   "metadata": {},
   "outputs": [
    {
     "data": {
      "text/plain": [
       "[300.0,\n",
       " 302.0,\n",
       " 500.0,\n",
       " 400.0,\n",
       " 203.0,\n",
       " 160.0,\n",
       " 400.0,\n",
       " 191.0,\n",
       " 450.0,\n",
       " 390.0,\n",
       " 155.0,\n",
       " 300.0,\n",
       " 390.0,\n",
       " 600.0,\n",
       " 211.0,\n",
       " 600.0,\n",
       " 401.0,\n",
       " 300.0,\n",
       " 390.0]"
      ]
     },
     "execution_count": 28,
     "metadata": {},
     "output_type": "execute_result"
    }
   ],
   "source": [
    "outlier"
   ]
  },
  {
   "cell_type": "code",
   "execution_count": 29,
   "id": "58010f7c",
   "metadata": {},
   "outputs": [
    {
     "data": {
      "text/plain": [
       "Int64Index([  3008,  41048,  66169,  85047, 111850, 119574, 127240, 171643,\n",
       "            174039, 174487, 224733, 232518, 264849, 290165, 325631, 333669,\n",
       "            337790, 384352, 393820],\n",
       "           dtype='int64')"
      ]
     },
     "execution_count": 29,
     "metadata": {},
     "output_type": "execute_result"
    }
   ],
   "source": [
    "ind_val=data[\"AGE\"]>Upper_lim\n",
    "data.loc[ind_val].index"
   ]
  },
  {
   "cell_type": "code",
   "execution_count": 30,
   "id": "82a222ff",
   "metadata": {},
   "outputs": [],
   "source": [
    "data.drop([ 3008,  41048,  66169,  85047, 111850, 119574, 127240, 171643,\n",
    "            174039, 174487, 224733, 232518, 264849, 290165, 325631, 333669,\n",
    "            337790, 384352, 393820],inplace=True)"
   ]
  },
  {
   "cell_type": "markdown",
   "id": "77cee910",
   "metadata": {},
   "source": [
    "# LABEL ENCODING AND MAPPING"
   ]
  },
  {
   "cell_type": "code",
   "execution_count": 31,
   "id": "72ac6fdc",
   "metadata": {},
   "outputs": [],
   "source": [
    "data01 = data.copy()"
   ]
  },
  {
   "cell_type": "code",
   "execution_count": 32,
   "id": "9cfcb1f5",
   "metadata": {},
   "outputs": [
    {
     "name": "stdout",
     "output_type": "stream",
     "text": [
      "Mapped labels of the features in data01 are [{'F': 0, 'M': 1}, {'abilify': 0, 'accolate': 1, 'accupril': 2, 'accutane': 3, 'aciphex': 4, 'actiq': 5, 'actonel': 6, 'actos': 7, 'acyclovir': 8, 'aczone': 9, 'adcirca': 10, 'adderall': 11, 'adderall-xr': 12, 'adipex-p': 13, 'advair-diskus': 14, 'advair-hfa': 15, 'albuterol': 16, 'aldactone': 17, 'aldara': 18, 'alendronate': 19, 'alesse': 20, 'allegra': 21, 'allegra-d': 22, 'aloprim': 23, 'alprazolam': 24, 'ambien': 25, 'ambien-cr': 26, 'amerge': 27, 'amitiza': 28, 'amoxil': 29, 'amphetamine': 30, 'ampicillin': 31, 'anafranil': 32, 'androgel': 33, 'angeliq': 34, 'antivert': 35, 'aralen': 36, 'arava': 37, 'aricept': 38, 'arimidex': 39, 'armour-thyroid': 40, 'aromasin': 41, 'arthrotec': 42, 'asacol': 43, 'asmanex': 44, 'atacand': 45, 'atarax': 46, 'atenolol': 47, 'ativan': 48, 'atripla': 49, 'augmentin': 50, 'avage': 51, 'avapro': 52, 'avelox': 53, 'avita': 54, 'avodart': 55, 'axert': 56, 'aygestin': 57, 'azasan': 58, 'azelex': 59, 'azopt': 60, 'azor': 61, 'baciim': 62, 'baclofen': 63, 'bactrim-ds': 64, 'bactroban': 65, 'baraclude': 66, 'benadryl': 67, 'benicar': 68, 'benicar-hct': 69, 'benzaclin': 70, 'betamethasone': 71, 'betaseron': 72, 'biaxin': 73, 'bisoprolol': 74, 'boniva': 75, 'botox': 76, 'buprenorphine': 77, 'buspar': 78, 'byetta': 79, 'bystolic': 80, 'caduet': 81, 'carac': 82, 'cardura': 83, 'cardura-xl': 84, 'cataflam': 85, 'catapres': 86, 'ceclor': 87, 'cefzil': 88, 'celebrex': 89, 'celexa': 90, 'chantix': 91, 'cialis': 92, 'cipro': 93, 'citalopram': 94, 'clarinex': 95, 'claripel-cream': 96, 'clarithromycin': 97, 'claritin': 98, 'cleocin': 99, 'climara': 100, 'climara-pro': 101, 'clindamycin': 102, 'clindamycin-topical': 103, 'clobetasol': 104, 'clobex': 105, 'clomid': 106, 'clonazepam': 107, 'compazine': 108, 'concerta': 109, 'copaxone': 110, 'coreg': 111, 'corgard': 112, 'cosopt': 113, 'coumadin': 114, 'cozaar': 115, 'crestor': 116, 'cymbalta': 117, 'cyproheptadine': 118, 'cytomel': 119, 'danazol': 120, 'dapsone': 121, 'darvocet-n': 122, 'delestrogen': 123, 'deltasone': 124, 'depakene': 125, 'depakote': 126, 'depo-provera': 127, 'desonide': 128, 'desyrel': 129, 'detrol': 130, 'detrol-la': 131, 'dexamethasone': 132, 'dexedrine': 133, 'dextroamphetamine': 134, 'dextrostat': 135, 'diazepam': 136, 'diclofenac': 137, 'dicyclomine': 138, 'differin': 139, 'diflucan': 140, 'dilantin': 141, 'dilaudid': 142, 'diltiazem': 143, 'diovan': 144, 'dispermox': 145, 'ditropan': 146, 'divigel': 147, 'doryx': 148, 'dostinex': 149, 'dovonex': 150, 'doxepin': 151, 'doxycycline': 152, 'duac': 153, 'duragesic': 154, 'dysport': 155, 'ecotrin': 156, 'effexor': 157, 'effexor-xr': 158, 'efudex': 159, 'elavil': 160, 'elidel': 161, 'elmiron': 162, 'elocon': 163, 'emsam': 164, 'enablex': 165, 'enalapril': 166, 'enbrel': 167, 'erythra-derm': 168, 'erythromycin': 169, 'estrace': 170, 'estrasorb': 171, 'estratest': 172, 'estring': 173, 'estrostep-fe': 174, 'eulexin': 175, 'evista': 176, 'evoclin': 177, 'exelon': 178, 'femara': 179, 'femhrt': 180, 'femring': 181, 'fentanyl': 182, 'fexofenadine': 183, 'finacea': 184, 'fioricet': 185, 'fiorinal': 186, 'flagyl': 187, 'flexeril': 188, 'flomax': 189, 'flonase': 190, 'flovent': 191, 'fluconazole': 192, 'fluvoxamine': 193, 'follistim': 194, 'fortaz': 195, 'fosamax': 196, 'fosamax-plus-d': 197, 'fosinopril': 198, 'frova': 199, 'galzin': 200, 'geodon': 201, 'glucophage': 202, 'glucophage-xr': 203, 'gonal-f-rff': 204, 'grifulvin-v': 205, 'halcion': 206, 'haldol': 207, 'humira': 208, 'hydrochlorothiazide': 209, 'hydrocodone-and-acetaminophen': 210, 'hydrocortisone': 211, 'hyoscyamine': 212, 'hytrin': 213, 'hyzaar': 214, 'imitrex': 215, 'imodium': 216, 'imuran': 217, 'inderal': 218, 'innofem': 219, 'inspra': 220, 'isoniazid': 221, 'keflex': 222, 'kenalog': 223, 'keppra': 224, 'ketoconazole': 225, 'ketorolac': 226, 'klaron': 227, 'klonopin': 228, 'lac-hydrin': 229, 'lamictal': 230, 'lamisil': 231, 'lamotrigine': 232, 'lantus': 233, 'lasix': 234, 'latisse': 235, 'levaquin': 236, 'levetiracetam': 237, 'levitra': 238, 'levora': 239, 'levothroid': 240, 'levoxyl': 241, 'lexapro': 242, 'lidex': 243, 'lidocaine': 244, 'lipitor': 245, 'lithium-carbonate': 246, 'lo-ovral': 247, 'locoid-lipocream': 248, 'lodine': 249, 'lopressor': 250, 'lorazepam': 251, 'lortab': 252, 'lotrel': 253, 'lotronex': 254, 'lumigan': 255, 'lunesta': 256, 'lupron': 257, 'lybrel': 258, 'lyrica': 259, 'macrobid': 260, 'malarone': 261, 'maxalt': 262, 'medroxyprogesterone': 263, 'meperidine': 264, 'mercaptopurine': 265, 'meridia': 266, 'metformin': 267, 'metformin-extended-release': 268, 'methadone': 269, 'methimazole': 270, 'methotrexate': 271, 'metoclopramide': 272, 'metoprolol': 273, 'metrogel': 274, 'metrolotion': 275, 'metronidazole': 276, 'mevacor': 277, 'micardis': 278, 'minocin': 279, 'minocycline': 280, 'minoxidil': 281, 'miralax': 282, 'mirapex': 283, 'mirena': 284, 'mirtazapine': 285, 'mobic': 286, 'morphine': 287, 'motrin': 288, 'naltrexone': 289, 'naprosyn': 290, 'naproxen': 291, 'nardil': 292, 'nasacort': 293, 'nasacort-aq': 294, 'nasarel': 295, 'nasonex': 296, 'neoprofen': 297, 'neurontin': 298, 'nexium': 299, 'niacor': 300, 'niaspan': 301, 'nitrofurantoin': 302, 'nizoral': 303, 'nizoral-shampoo': 304, 'nolvadex': 305, 'noroxin': 306, 'norpramin': 307, 'nortriptyline': 308, 'norvasc': 309, 'nuvaring': 310, 'nuvigil': 311, 'nystatin': 312, 'omacor': 313, 'omnicef': 314, 'omnitrope': 315, 'oracea': 316, 'ortho-evra': 317, 'ortho-novum': 318, 'ortho-tri-cyclen': 319, 'ortho-tri-cyclen-lo': 320, 'oxazepam': 321, 'oxybutynin': 322, 'oxycodone': 323, 'oxycodone-and-acetaminophen': 324, 'oxycontin': 325, 'pamelor': 326, 'panixine-disperdose': 327, 'parlodel': 328, 'paxil': 329, 'paxil-cr': 330, 'penicillin-v': 331, 'penlac': 332, 'pentasa': 333, 'pepcid': 334, 'percocet': 335, 'periogard': 336, 'periostat': 337, 'permapen': 338, 'phendimetrazine': 339, 'phenergan': 340, 'pilocarpine': 341, 'plavix': 342, 'plendil': 343, 'polymyxin-b': 344, 'ponstel': 345, 'pravachol': 346, 'prednisolone': 347, 'prednisone': 348, 'premarin': 349, 'premarin-vaginal': 350, 'prempro': 351, 'prevacid': 352, 'prilosec': 353, 'prinivil': 354, 'pristiq': 355, 'proair-hfa': 356, 'prochlorperazine': 357, 'progesterone': 358, 'prograf': 359, 'proloprim': 360, 'prometrium': 361, 'propecia': 362, 'propranolol': 363, 'proquin-xr': 364, 'proscar': 365, 'protonix': 366, 'protopic': 367, 'provera': 368, 'provigil': 369, 'prozac': 370, 'quibron-t': 371, 'qvar': 372, 'ranitidine': 373, 'rebif': 374, 'reglan': 375, 'relafen': 376, 'relpax': 377, 'remeron': 378, 'remicade': 379, 'renova': 380, 'requip': 381, 'restasis': 382, 'restoril': 383, 'retin-a': 384, 'retin-a-micro': 385, 'rhinocort': 386, 'ribavirin': 387, 'rifadin': 388, 'risperdal': 389, 'risperdal-consta': 390, 'ritalin': 391, 'ritalin-la': 392, 'saizen': 393, 'sanctura-xr': 394, 'sarafem': 395, 'seasonale': 396, 'seasonique': 397, 'selegiline': 398, 'septra': 399, 'seroquel': 400, 'seroquel-xr': 401, 'serzone': 402, 'singulair': 403, 'skelaxin': 404, 'solodyn': 405, 'soltamox': 406, 'soma': 407, 'sonata': 408, 'sotret': 409, 'spiriva': 410, 'spironolactone': 411, 'strattera': 412, 'suboxone': 413, 'sular': 414, 'sulfasalazine': 415, 'sulindac': 416, 'sumatriptan': 417, 'symbicort': 418, 'symbyax': 419, 'synthroid': 420, 'tambocor': 421, 'tamiflu': 422, 'tapazole': 423, 'tarka': 424, 'tazorac': 425, 'tegretol': 426, 'tekturna': 427, 'temovate': 428, 'tenormin': 429, 'tequin': 430, 'tetracycline': 431, 'tirosint': 432, 'tobramycin': 433, 'tofranil-pm': 434, 'topamax': 435, 'topicort': 436, 'toprol-xl': 437, 'toradol': 438, 'tramadol': 439, 'trazodone': 440, 'trental': 441, 'tri-luma': 442, 'triamcinolone': 443, 'triaz': 444, 'trileptal': 445, 'trilipix': 446, 'trimethobenzamide': 447, 'trimethoprim': 448, 'triphasil': 449, 'tussionex': 450, 'tylenol': 451, 'ultracet': 452, 'ultram': 453, 'ultram-er': 454, 'vagifem': 455, 'valium': 456, 'valtrex': 457, 'vaniqa': 458, 'vasotec': 459, 'ventolin-hfa': 460, 'vesicare': 461, 'viagra': 462, 'vicodin': 463, 'vicoprofen': 464, 'vigamox': 465, 'vioxx': 466, 'vistaril': 467, 'vivelle': 468, 'vivelle-dot': 469, 'voltaren': 470, 'vytorin': 471, 'vyvanse': 472, 'warfarin': 473, 'wellbutrin': 474, 'wellbutrin-sr': 475, 'wellbutrin-xl': 476, 'xalatan': 477, 'xanax': 478, 'xanax-xr': 479, 'xenical': 480, 'xyrem': 481, 'xyzal': 482, 'yasmin': 483, 'zantac': 484, 'zegerid': 485, 'zestoretic': 486, 'ziac': 487, 'ziana': 488, 'zithromax': 489, 'zmax': 490, 'zocor': 491, 'zofran': 492, 'zoloft': 493, 'zomig': 494, 'zovirax': 495, 'zovirax-topical': 496, 'zyban': 497, 'zyprexa': 498, 'zyrtec': 499, 'zyrtec-d': 500, 'zyvox': 501}, {'Asian Indian': 0, 'Asian, Other': 1, 'Black': 2, 'Chinese': 3, 'Hispanic, Black': 4, 'Hispanic, White': 5, 'Other': 6, 'Unknown': 7, 'White': 8}, {'Extremely Severe Side Effects': 0, 'Mild Side Effects': 1, 'Moderate Side Effects': 2, 'No Side Effects': 3, 'Severe Side Effects': 4}]\n"
     ]
    }
   ],
   "source": [
    "from sklearn.preprocessing import LabelEncoder\n",
    "\n",
    "cols = []\n",
    "for i in data01.columns:\n",
    "    if data01[i].dtype == 'object':\n",
    "        cols.append(i)\n",
    "\n",
    "labelencoder = LabelEncoder()\n",
    "mapping =[]\n",
    "for i in cols:\n",
    "    data01[i] = labelencoder.fit_transform(data01[i])\n",
    "    lemap = dict(zip(labelencoder.classes_,labelencoder.transform(labelencoder.classes_)))\n",
    "    mapping.append(lemap)\n",
    "\n",
    "print(f\"Mapped labels of the features in data01 are {mapping}\")"
   ]
  },
  {
   "cell_type": "code",
   "execution_count": 33,
   "id": "1d430faf",
   "metadata": {},
   "outputs": [
    {
     "data": {
      "text/plain": [
       "<Axes: >"
      ]
     },
     "execution_count": 33,
     "metadata": {},
     "output_type": "execute_result"
    },
    {
     "data": {
      "image/png": "[encoded data removed]",
      "text/plain": [
       "<Figure size 1000x1500 with 2 Axes>"
      ]
     },
     "metadata": {},
     "output_type": "display_data"
    }
   ],
   "source": [
    "# Create the correlation heatmap \n",
    "from matplotlib import pyplot as plt\n",
    "import seaborn as sns\n",
    "corrmatrix = data01.corr()\n",
    "plt.subplots(figsize=(10,15))\n",
    "colormap = sns.color_palette(\"inferno\", as_cmap=True)\n",
    "sns.set_theme(style='darkgrid')\n",
    "# Generating a mask for the upper triangle\n",
    "mask = np.zeros_like(corrmatrix)\n",
    "mask[np.triu_indices_from(mask)] = True\n",
    "# Heatmap with the mask\n",
    "sns.heatmap(corrmatrix,mask=mask, square=True, annot=True, linewidth=0.75, cmap=colormap)"
   ]
  },
  {
   "cell_type": "code",
   "execution_count": 34,
   "id": "23ef9353",
   "metadata": {},
   "outputs": [
    {
     "data": {
      "text/html": [
       "<div>\n",
       "<style scoped>\n",
       "    .dataframe tbody tr th:only-of-type {\n",
       "        vertical-align: middle;\n",
       "    }\n",
       "\n",
       "    .dataframe tbody tr th {\n",
       "        vertical-align: top;\n",
       "    }\n",
       "\n",
       "    .dataframe thead th {\n",
       "        text-align: right;\n",
       "    }\n",
       "</style>\n",
       "<table border=\"1\" class=\"dataframe\">\n",
       "  <thead>\n",
       "    <tr style=\"text-align: right;\">\n",
       "      <th></th>\n",
       "      <th>GENDER</th>\n",
       "      <th>DRUG NAME</th>\n",
       "      <th>AGE</th>\n",
       "      <th>SIDE EFFECTS</th>\n",
       "    </tr>\n",
       "  </thead>\n",
       "  <tbody>\n",
       "    <tr>\n",
       "      <th>0</th>\n",
       "      <td>1</td>\n",
       "      <td>435</td>\n",
       "      <td>41.0</td>\n",
       "      <td>1</td>\n",
       "    </tr>\n",
       "    <tr>\n",
       "      <th>1</th>\n",
       "      <td>1</td>\n",
       "      <td>491</td>\n",
       "      <td>53.0</td>\n",
       "      <td>0</td>\n",
       "    </tr>\n",
       "    <tr>\n",
       "      <th>2</th>\n",
       "      <td>0</td>\n",
       "      <td>425</td>\n",
       "      <td>31.0</td>\n",
       "      <td>1</td>\n",
       "    </tr>\n",
       "  </tbody>\n",
       "</table>\n",
       "</div>"
      ],
      "text/plain": [
       "   GENDER  DRUG NAME   AGE  SIDE EFFECTS\n",
       "0       1        435  41.0             1\n",
       "1       1        491  53.0             0\n",
       "2       0        425  31.0             1"
      ]
     },
     "execution_count": 34,
     "metadata": {},
     "output_type": "execute_result"
    }
   ],
   "source": [
    "data01.drop(['RACE'], axis=1, inplace=True)\n",
    "data01.head(3)"
   ]
  },
  {
   "cell_type": "markdown",
   "id": "45ba1c62",
   "metadata": {},
   "source": [
    "# MODELLING"
   ]
  },
  {
   "cell_type": "code",
   "execution_count": 35,
   "id": "8e46c0a1",
   "metadata": {},
   "outputs": [],
   "source": [
    "from sklearn.feature_selection import RFE\n",
    "from sklearn.model_selection import train_test_split\n",
    "from sklearn.model_selection import cross_val_score\n",
    "from sklearn.metrics import mean_squared_error, r2_score\n",
    "from sklearn.preprocessing import MinMaxScaler\n",
    "from sklearn.metrics import confusion_matrix\n",
    "from sklearn.metrics import classification_report\n",
    "\n",
    "from sklearn.linear_model import LinearRegression\n",
    "from sklearn.tree import DecisionTreeRegressor\n",
    "from sklearn.ensemble import RandomForestClassifier\n",
    "from sklearn.ensemble import GradientBoostingRegressor\n",
    "from sklearn.model_selection import GridSearchCV"
   ]
  },
  {
   "cell_type": "code",
   "execution_count": 36,
   "id": "8baf1f51",
   "metadata": {},
   "outputs": [],
   "source": [
    "# Splitting the Dataframe\n",
    "# Independent variables\n",
    "X = data01.drop(['SIDE EFFECTS'], axis=1)\n",
    "# Dependent variables\n",
    "y = data01['SIDE EFFECTS']\n",
    "\n",
    "X_train, X_test, y_train, y_test = train_test_split(X, y, test_size = 0.35, random_state=42)"
   ]
  },
  {
   "cell_type": "code",
   "execution_count": 37,
   "id": "3d990846",
   "metadata": {},
   "outputs": [
    {
     "name": "stderr",
     "output_type": "stream",
     "text": [
      "c:\\Users\\Shamnad S\\anaconda3\\Lib\\site-packages\\sklearn\\linear_model\\_logistic.py:458: ConvergenceWarning: lbfgs failed to converge (status=1):\n",
      "STOP: TOTAL NO. of ITERATIONS REACHED LIMIT.\n",
      "\n",
      "Increase the number of iterations (max_iter) or scale the data as shown in:\n",
      "    https://scikit-learn.org/stable/modules/preprocessing.html\n",
      "Please also refer to the documentation for alternative solver options:\n",
      "    https://scikit-learn.org/stable/modules/linear_model.html#logistic-regression\n",
      "  n_iter_i = _check_optimize_result(\n",
      "c:\\Users\\Shamnad S\\anaconda3\\Lib\\site-packages\\sklearn\\metrics\\_classification.py:1344: UndefinedMetricWarning: Precision and F-score are ill-defined and being set to 0.0 in labels with no predicted samples. Use `zero_division` parameter to control this behavior.\n",
      "  _warn_prf(average, modifier, msg_start, len(result))\n",
      "c:\\Users\\Shamnad S\\anaconda3\\Lib\\site-packages\\sklearn\\metrics\\_classification.py:1344: UndefinedMetricWarning: Precision and F-score are ill-defined and being set to 0.0 in labels with no predicted samples. Use `zero_division` parameter to control this behavior.\n",
      "  _warn_prf(average, modifier, msg_start, len(result))\n"
     ]
    },
    {
     "name": "stdout",
     "output_type": "stream",
     "text": [
      "              precision    recall  f1-score   support\n",
      "\n",
      "           0       0.00      0.00      0.00      7978\n",
      "           1       0.33      0.92      0.49     46563\n",
      "           2       0.00      0.00      0.00     26181\n",
      "           3       0.28      0.08      0.13     40323\n",
      "           4       0.00      0.00      0.00     18949\n",
      "\n",
      "    accuracy                           0.33    139994\n",
      "   macro avg       0.12      0.20      0.12    139994\n",
      "weighted avg       0.19      0.33      0.20    139994\n",
      "\n",
      "[[    0  7086     0   892     0]\n",
      " [    0 42868     0  3695     0]\n",
      " [    0 24193     0  1988     0]\n",
      " [    0 37013     0  3310     0]\n",
      " [    0 17192     0  1757     0]]\n",
      "accuracy is 0.3298569938711659\n"
     ]
    },
    {
     "name": "stderr",
     "output_type": "stream",
     "text": [
      "c:\\Users\\Shamnad S\\anaconda3\\Lib\\site-packages\\sklearn\\metrics\\_classification.py:1344: UndefinedMetricWarning: Precision and F-score are ill-defined and being set to 0.0 in labels with no predicted samples. Use `zero_division` parameter to control this behavior.\n",
      "  _warn_prf(average, modifier, msg_start, len(result))\n"
     ]
    }
   ],
   "source": [
    "# LOGISTIC REGRESSION\n",
    "from sklearn.linear_model import LogisticRegression\n",
    "classifier = LogisticRegression()\n",
    "classifier.fit(X_train, y_train)\n",
    "\n",
    "y_pred = classifier.predict(X_test)\n",
    "\n",
    "#Summary of the predictions made by the classifier\n",
    "print(classification_report(y_test, y_pred))\n",
    "print(confusion_matrix(y_test, y_pred))\n",
    "# Accuracy score\n",
    "from sklearn.metrics import accuracy_score\n",
    "print('accuracy is',accuracy_score(y_pred,y_test))"
   ]
  },
  {
   "cell_type": "code",
   "execution_count": 38,
   "id": "e10d3fe2",
   "metadata": {},
   "outputs": [
    {
     "name": "stdout",
     "output_type": "stream",
     "text": [
      "              precision    recall  f1-score   support\n",
      "\n",
      "           0       0.94      0.97      0.95      7978\n",
      "           1       0.97      0.97      0.97     46563\n",
      "           2       0.97      0.97      0.97     26181\n",
      "           3       0.97      0.97      0.97     40323\n",
      "           4       0.99      0.96      0.97     18949\n",
      "\n",
      "    accuracy                           0.97    139994\n",
      "   macro avg       0.97      0.97      0.97    139994\n",
      "weighted avg       0.97      0.97      0.97    139994\n",
      "\n",
      "[[ 7705   173    41    35    24]\n",
      " [  334 45394   215   558    62]\n",
      " [   74   415 25282   330    80]\n",
      " [   67   718   303 39164    71]\n",
      " [   41   137   109   466 18196]]\n",
      "accuracy is 0.9696201265768533\n"
     ]
    }
   ],
   "source": [
    "# K-Nearest Neighbours\n",
    "from sklearn.neighbors import KNeighborsClassifier\n",
    "\n",
    "classifier = KNeighborsClassifier(n_neighbors=8)\n",
    "classifier.fit(X_train, y_train)\n",
    "\n",
    "y_pred = classifier.predict(X_test)\n",
    "\n",
    "# Summary of the predictions made by the classifier\n",
    "print(classification_report(y_test, y_pred))\n",
    "print(confusion_matrix(y_test, y_pred))\n",
    "# Accuracy score\n",
    "from sklearn.metrics import accuracy_score\n",
    "print('accuracy is',accuracy_score(y_pred,y_test))"
   ]
  },
  {
   "cell_type": "code",
   "execution_count": 39,
   "id": "d9863503",
   "metadata": {},
   "outputs": [],
   "source": [
    "# Importing RandomForestClassifier sklearn.ensemble as RFC\n",
    "from sklearn.ensemble import RandomForestClassifier as RFC\n",
    "RModel=RFC(n_estimators=100, random_state=42)\n",
    "# Training the model\n",
    "RModel.fit(X_train,y_train)\n",
    "y_Pred=RModel.predict(X_test)"
   ]
  },
  {
   "cell_type": "code",
   "execution_count": 40,
   "id": "bc70cc0e",
   "metadata": {},
   "outputs": [
    {
     "name": "stdout",
     "output_type": "stream",
     "text": [
      "              precision    recall  f1-score   support\n",
      "\n",
      "           0       0.96      0.96      0.96      7978\n",
      "           1       0.98      0.97      0.98     46563\n",
      "           2       0.98      0.97      0.98     26181\n",
      "           3       0.97      0.98      0.97     40323\n",
      "           4       0.98      0.98      0.98     18949\n",
      "\n",
      "    accuracy                           0.98    139994\n",
      "   macro avg       0.97      0.97      0.97    139994\n",
      "weighted avg       0.98      0.98      0.98    139994\n",
      "\n",
      "[[ 7629   248    34    42    25]\n",
      " [  197 45329   148   807    82]\n",
      " [   42   295 25525   251    68]\n",
      " [   21   201   290 39558   253]\n",
      " [   27    57    65   237 18563]]\n",
      "accuracy is 0.9757846764861351\n"
     ]
    }
   ],
   "source": [
    "# Summary of the predictions made by the classifier\n",
    "print(classification_report(y_test, y_Pred))\n",
    "print(confusion_matrix(y_test, y_Pred))\n",
    "# Accuracy score\n",
    "from sklearn.metrics import accuracy_score\n",
    "print('accuracy is',accuracy_score(y_Pred,y_test))"
   ]
  },
  {
   "cell_type": "code",
   "execution_count": 41,
   "id": "702574f8",
   "metadata": {},
   "outputs": [
    {
     "name": "stdout",
     "output_type": "stream",
     "text": [
      "              precision    recall  f1-score   support\n",
      "\n",
      "           0       0.96      0.96      0.96      7978\n",
      "           1       0.98      0.98      0.98     46563\n",
      "           2       0.98      0.98      0.98     26181\n",
      "           3       0.97      0.98      0.98     40323\n",
      "           4       0.98      0.98      0.98     18949\n",
      "\n",
      "    accuracy                           0.98    139994\n",
      "   macro avg       0.98      0.97      0.97    139994\n",
      "weighted avg       0.98      0.98      0.98    139994\n",
      "\n",
      "[[ 7639   246    31    39    23]\n",
      " [  192 45415   116   768    72]\n",
      " [   44   309 25531   237    60]\n",
      " [   21   195   281 39591   235]\n",
      " [   27    49    63   233 18577]]\n",
      "accuracy is 0.9768490078146206\n"
     ]
    }
   ],
   "source": [
    "# Decision Tree's\n",
    "from sklearn.tree import DecisionTreeClassifier\n",
    "\n",
    "classifier = DecisionTreeClassifier()\n",
    "\n",
    "classifier.fit(X_train, y_train)\n",
    "\n",
    "y_pred = classifier.predict(X_test)\n",
    "\n",
    "# Summary of the predictions made by the classifier\n",
    "print(classification_report(y_test, y_pred))\n",
    "print(confusion_matrix(y_test, y_pred))\n",
    "# Accuracy score\n",
    "from sklearn.metrics import accuracy_score\n",
    "print('accuracy is',accuracy_score(y_pred,y_test))"
   ]
  },
  {
   "cell_type": "code",
   "execution_count": null,
   "id": "0dbd30a3",
   "metadata": {},
   "outputs": [],
   "source": []
  }
 ],
 "metadata": {
  "kernelspec": {
   "display_name": "Python 3 (ipykernel)",
   "language": "python",
   "name": "python3"
  },
  "language_info": {
   "codemirror_mode": {
    "name": "ipython",
    "version": 3
   },
   "file_extension": ".py",
   "mimetype": "text/x-python",
   "name": "python",
   "nbconvert_exporter": "python",
   "pygments_lexer": "ipython3",
   "version": "3.11.3"
  }
 },
 "nbformat": 4,
 "nbformat_minor": 5
}
